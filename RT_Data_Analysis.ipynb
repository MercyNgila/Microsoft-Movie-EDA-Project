{
  "nbformat": 4,
  "nbformat_minor": 0,
  "metadata": {
    "colab": {
      "provenance": [],
      "mount_file_id": "1UIrl1A_Lee9-v4pXcy-FWmFCiksX7VwA",
      "authorship_tag": "ABX9TyN+8lJ9K5Wup2utTWlCNrCK",
      "include_colab_link": true
    },
    "kernelspec": {
      "name": "python3",
      "display_name": "Python 3"
    },
    "language_info": {
      "name": "python"
    }
  },
  "cells": [
    {
      "cell_type": "markdown",
      "metadata": {
        "id": "view-in-github",
        "colab_type": "text"
      },
      "source": [
        "<a href=\"https://colab.research.google.com/github/MercyNgila/Microsoft-Movie-EDA-Project/blob/main/RT_Data_Analysis.ipynb\" target=\"_parent\"><img src=\"https://colab.research.google.com/assets/colab-badge.svg\" alt=\"Open In Colab\"/></a>"
      ]
    },
    {
      "cell_type": "markdown",
      "source": [
        "# Rotten Tomato EDA\n"
      ],
      "metadata": {
        "id": "J7y0qDOUdimS"
      }
    },
    {
      "cell_type": "markdown",
      "source": [
        "## Business Understanding\n",
        "\n",
        "Exploratory data analysis for rotten tomato data."
      ],
      "metadata": {
        "id": "g_Qn6q_Wdxe6"
      }
    },
    {
      "cell_type": "markdown",
      "source": [
        "### Objectives\n",
        "\n",
        "- Question 1\n",
        "- Question 2\n",
        "- Question 3\n",
        "- Question 4\n",
        "- Question 5"
      ],
      "metadata": {
        "id": "qZ1-HWkud9te"
      }
    },
    {
      "cell_type": "markdown",
      "source": [
        "## Data Understanding"
      ],
      "metadata": {
        "id": "f0zMXNOJePDI"
      }
    },
    {
      "cell_type": "markdown",
      "source": [
        "## Loading libraries and data"
      ],
      "metadata": {
        "id": "ZHhXcWCoeVLU"
      }
    },
    {
      "cell_type": "markdown",
      "source": [
        "### Loading libraries"
      ],
      "metadata": {
        "id": "c0LxlhSneneM"
      }
    },
    {
      "cell_type": "code",
      "source": [
        "from google.colab import drive"
      ],
      "metadata": {
        "id": "E1iJYwWYeKQ5"
      },
      "execution_count": 2,
      "outputs": []
    },
    {
      "cell_type": "code",
      "source": [
        "import pandas as pd\n",
        "import matplotlib.pyplot as plt\n",
        "import seaborn as sns"
      ],
      "metadata": {
        "id": "jdCYUrdOefX8"
      },
      "execution_count": 3,
      "outputs": []
    },
    {
      "cell_type": "markdown",
      "source": [
        "### Loading data"
      ],
      "metadata": {
        "id": "YrhAAIRxe5JF"
      }
    },
    {
      "cell_type": "code",
      "source": [
        "rt_info = pd.read_csv('/content/drive/MyDrive/Data Analysis Science/Rotten Tomato EDA/rt.movie_info.tsv', \n",
        "                      sep = '\\t')\n"
      ],
      "metadata": {
        "id": "BYtadswue4FV"
      },
      "execution_count": 31,
      "outputs": []
    },
    {
      "cell_type": "code",
      "source": [
        "rt_reviews = pd.read_csv('/content/drive/MyDrive/Data Analysis Science/Rotten Tomato EDA/rt.reviews.tsv', \n",
        "                         sep = '\\t', encoding = 'ISO-8859-1')"
      ],
      "metadata": {
        "id": "FNQU02sihJa1"
      },
      "execution_count": 32,
      "outputs": []
    },
    {
      "cell_type": "markdown",
      "source": [
        "### Previewing data"
      ],
      "metadata": {
        "id": "cIjRyY2siaO-"
      }
    },
    {
      "cell_type": "code",
      "source": [
        "rt_info.head()"
      ],
      "metadata": {
        "colab": {
          "base_uri": "https://localhost:8080/",
          "height": 372
        },
        "id": "RGn9OgG2gIyJ",
        "outputId": "c775844f-06f4-4b25-a2f2-63c195dfcf30"
      },
      "execution_count": 35,
      "outputs": [
        {
          "output_type": "execute_result",
          "data": {
            "text/plain": [
              "   id                                           synopsis rating  \\\n",
              "0   1  This gritty, fast-paced, and innovative police...      R   \n",
              "1   3  New York City, not-too-distant-future: Eric Pa...      R   \n",
              "2   5  Illeana Douglas delivers a superb performance ...      R   \n",
              "3   6  Michael Douglas runs afoul of a treacherous su...      R   \n",
              "4   7                                                NaN     NR   \n",
              "\n",
              "                                 genre          director  \\\n",
              "0  Action and Adventure|Classics|Drama  William Friedkin   \n",
              "1    Drama|Science Fiction and Fantasy  David Cronenberg   \n",
              "2    Drama|Musical and Performing Arts    Allison Anders   \n",
              "3           Drama|Mystery and Suspense    Barry Levinson   \n",
              "4                        Drama|Romance    Rodney Bennett   \n",
              "\n",
              "                            writer  theater_date      dvd_date currency  \\\n",
              "0                   Ernest Tidyman   Oct 9, 1971  Sep 25, 2001      NaN   \n",
              "1     David Cronenberg|Don DeLillo  Aug 17, 2012   Jan 1, 2013        $   \n",
              "2                   Allison Anders  Sep 13, 1996  Apr 18, 2000      NaN   \n",
              "3  Paul Attanasio|Michael Crichton   Dec 9, 1994  Aug 27, 1997      NaN   \n",
              "4                     Giles Cooper           NaN           NaN      NaN   \n",
              "\n",
              "  box_office      runtime             studio  \n",
              "0        NaN  104 minutes                NaN  \n",
              "1    600,000  108 minutes  Entertainment One  \n",
              "2        NaN  116 minutes                NaN  \n",
              "3        NaN  128 minutes                NaN  \n",
              "4        NaN  200 minutes                NaN  "
            ],
            "text/html": [
              "\n",
              "  <div id=\"df-01b633e0-18ae-4438-81a0-b3258af57688\">\n",
              "    <div class=\"colab-df-container\">\n",
              "      <div>\n",
              "<style scoped>\n",
              "    .dataframe tbody tr th:only-of-type {\n",
              "        vertical-align: middle;\n",
              "    }\n",
              "\n",
              "    .dataframe tbody tr th {\n",
              "        vertical-align: top;\n",
              "    }\n",
              "\n",
              "    .dataframe thead th {\n",
              "        text-align: right;\n",
              "    }\n",
              "</style>\n",
              "<table border=\"1\" class=\"dataframe\">\n",
              "  <thead>\n",
              "    <tr style=\"text-align: right;\">\n",
              "      <th></th>\n",
              "      <th>id</th>\n",
              "      <th>synopsis</th>\n",
              "      <th>rating</th>\n",
              "      <th>genre</th>\n",
              "      <th>director</th>\n",
              "      <th>writer</th>\n",
              "      <th>theater_date</th>\n",
              "      <th>dvd_date</th>\n",
              "      <th>currency</th>\n",
              "      <th>box_office</th>\n",
              "      <th>runtime</th>\n",
              "      <th>studio</th>\n",
              "    </tr>\n",
              "  </thead>\n",
              "  <tbody>\n",
              "    <tr>\n",
              "      <th>0</th>\n",
              "      <td>1</td>\n",
              "      <td>This gritty, fast-paced, and innovative police...</td>\n",
              "      <td>R</td>\n",
              "      <td>Action and Adventure|Classics|Drama</td>\n",
              "      <td>William Friedkin</td>\n",
              "      <td>Ernest Tidyman</td>\n",
              "      <td>Oct 9, 1971</td>\n",
              "      <td>Sep 25, 2001</td>\n",
              "      <td>NaN</td>\n",
              "      <td>NaN</td>\n",
              "      <td>104 minutes</td>\n",
              "      <td>NaN</td>\n",
              "    </tr>\n",
              "    <tr>\n",
              "      <th>1</th>\n",
              "      <td>3</td>\n",
              "      <td>New York City, not-too-distant-future: Eric Pa...</td>\n",
              "      <td>R</td>\n",
              "      <td>Drama|Science Fiction and Fantasy</td>\n",
              "      <td>David Cronenberg</td>\n",
              "      <td>David Cronenberg|Don DeLillo</td>\n",
              "      <td>Aug 17, 2012</td>\n",
              "      <td>Jan 1, 2013</td>\n",
              "      <td>$</td>\n",
              "      <td>600,000</td>\n",
              "      <td>108 minutes</td>\n",
              "      <td>Entertainment One</td>\n",
              "    </tr>\n",
              "    <tr>\n",
              "      <th>2</th>\n",
              "      <td>5</td>\n",
              "      <td>Illeana Douglas delivers a superb performance ...</td>\n",
              "      <td>R</td>\n",
              "      <td>Drama|Musical and Performing Arts</td>\n",
              "      <td>Allison Anders</td>\n",
              "      <td>Allison Anders</td>\n",
              "      <td>Sep 13, 1996</td>\n",
              "      <td>Apr 18, 2000</td>\n",
              "      <td>NaN</td>\n",
              "      <td>NaN</td>\n",
              "      <td>116 minutes</td>\n",
              "      <td>NaN</td>\n",
              "    </tr>\n",
              "    <tr>\n",
              "      <th>3</th>\n",
              "      <td>6</td>\n",
              "      <td>Michael Douglas runs afoul of a treacherous su...</td>\n",
              "      <td>R</td>\n",
              "      <td>Drama|Mystery and Suspense</td>\n",
              "      <td>Barry Levinson</td>\n",
              "      <td>Paul Attanasio|Michael Crichton</td>\n",
              "      <td>Dec 9, 1994</td>\n",
              "      <td>Aug 27, 1997</td>\n",
              "      <td>NaN</td>\n",
              "      <td>NaN</td>\n",
              "      <td>128 minutes</td>\n",
              "      <td>NaN</td>\n",
              "    </tr>\n",
              "    <tr>\n",
              "      <th>4</th>\n",
              "      <td>7</td>\n",
              "      <td>NaN</td>\n",
              "      <td>NR</td>\n",
              "      <td>Drama|Romance</td>\n",
              "      <td>Rodney Bennett</td>\n",
              "      <td>Giles Cooper</td>\n",
              "      <td>NaN</td>\n",
              "      <td>NaN</td>\n",
              "      <td>NaN</td>\n",
              "      <td>NaN</td>\n",
              "      <td>200 minutes</td>\n",
              "      <td>NaN</td>\n",
              "    </tr>\n",
              "  </tbody>\n",
              "</table>\n",
              "</div>\n",
              "      <button class=\"colab-df-convert\" onclick=\"convertToInteractive('df-01b633e0-18ae-4438-81a0-b3258af57688')\"\n",
              "              title=\"Convert this dataframe to an interactive table.\"\n",
              "              style=\"display:none;\">\n",
              "        \n",
              "  <svg xmlns=\"http://www.w3.org/2000/svg\" height=\"24px\"viewBox=\"0 0 24 24\"\n",
              "       width=\"24px\">\n",
              "    <path d=\"M0 0h24v24H0V0z\" fill=\"none\"/>\n",
              "    <path d=\"M18.56 5.44l.94 2.06.94-2.06 2.06-.94-2.06-.94-.94-2.06-.94 2.06-2.06.94zm-11 1L8.5 8.5l.94-2.06 2.06-.94-2.06-.94L8.5 2.5l-.94 2.06-2.06.94zm10 10l.94 2.06.94-2.06 2.06-.94-2.06-.94-.94-2.06-.94 2.06-2.06.94z\"/><path d=\"M17.41 7.96l-1.37-1.37c-.4-.4-.92-.59-1.43-.59-.52 0-1.04.2-1.43.59L10.3 9.45l-7.72 7.72c-.78.78-.78 2.05 0 2.83L4 21.41c.39.39.9.59 1.41.59.51 0 1.02-.2 1.41-.59l7.78-7.78 2.81-2.81c.8-.78.8-2.07 0-2.86zM5.41 20L4 18.59l7.72-7.72 1.47 1.35L5.41 20z\"/>\n",
              "  </svg>\n",
              "      </button>\n",
              "      \n",
              "  <style>\n",
              "    .colab-df-container {\n",
              "      display:flex;\n",
              "      flex-wrap:wrap;\n",
              "      gap: 12px;\n",
              "    }\n",
              "\n",
              "    .colab-df-convert {\n",
              "      background-color: #E8F0FE;\n",
              "      border: none;\n",
              "      border-radius: 50%;\n",
              "      cursor: pointer;\n",
              "      display: none;\n",
              "      fill: #1967D2;\n",
              "      height: 32px;\n",
              "      padding: 0 0 0 0;\n",
              "      width: 32px;\n",
              "    }\n",
              "\n",
              "    .colab-df-convert:hover {\n",
              "      background-color: #E2EBFA;\n",
              "      box-shadow: 0px 1px 2px rgba(60, 64, 67, 0.3), 0px 1px 3px 1px rgba(60, 64, 67, 0.15);\n",
              "      fill: #174EA6;\n",
              "    }\n",
              "\n",
              "    [theme=dark] .colab-df-convert {\n",
              "      background-color: #3B4455;\n",
              "      fill: #D2E3FC;\n",
              "    }\n",
              "\n",
              "    [theme=dark] .colab-df-convert:hover {\n",
              "      background-color: #434B5C;\n",
              "      box-shadow: 0px 1px 3px 1px rgba(0, 0, 0, 0.15);\n",
              "      filter: drop-shadow(0px 1px 2px rgba(0, 0, 0, 0.3));\n",
              "      fill: #FFFFFF;\n",
              "    }\n",
              "  </style>\n",
              "\n",
              "      <script>\n",
              "        const buttonEl =\n",
              "          document.querySelector('#df-01b633e0-18ae-4438-81a0-b3258af57688 button.colab-df-convert');\n",
              "        buttonEl.style.display =\n",
              "          google.colab.kernel.accessAllowed ? 'block' : 'none';\n",
              "\n",
              "        async function convertToInteractive(key) {\n",
              "          const element = document.querySelector('#df-01b633e0-18ae-4438-81a0-b3258af57688');\n",
              "          const dataTable =\n",
              "            await google.colab.kernel.invokeFunction('convertToInteractive',\n",
              "                                                     [key], {});\n",
              "          if (!dataTable) return;\n",
              "\n",
              "          const docLinkHtml = 'Like what you see? Visit the ' +\n",
              "            '<a target=\"_blank\" href=https://colab.research.google.com/notebooks/data_table.ipynb>data table notebook</a>'\n",
              "            + ' to learn more about interactive tables.';\n",
              "          element.innerHTML = '';\n",
              "          dataTable['output_type'] = 'display_data';\n",
              "          await google.colab.output.renderOutput(dataTable, element);\n",
              "          const docLink = document.createElement('div');\n",
              "          docLink.innerHTML = docLinkHtml;\n",
              "          element.appendChild(docLink);\n",
              "        }\n",
              "      </script>\n",
              "    </div>\n",
              "  </div>\n",
              "  "
            ]
          },
          "metadata": {},
          "execution_count": 35
        }
      ]
    },
    {
      "cell_type": "code",
      "source": [
        "rt_reviews.head()"
      ],
      "metadata": {
        "colab": {
          "base_uri": "https://localhost:8080/",
          "height": 206
        },
        "id": "P_c_WBQUieN0",
        "outputId": "96ebb467-9968-410a-f993-00c02ba2f438"
      },
      "execution_count": 36,
      "outputs": [
        {
          "output_type": "execute_result",
          "data": {
            "text/plain": [
              "   id                                             review rating   fresh  \\\n",
              "0   3  A distinctly gallows take on contemporary fina...    3/5   fresh   \n",
              "1   3  It's an allegory in search of a meaning that n...    NaN  rotten   \n",
              "2   3  ... life lived in a bubble in financial dealin...    NaN   fresh   \n",
              "3   3  Continuing along a line introduced in last yea...    NaN   fresh   \n",
              "4   3             ... a perverse twist on neorealism...     NaN   fresh   \n",
              "\n",
              "           critic  top_critic         publisher               date  \n",
              "0      PJ Nabarro           0   Patrick Nabarro  November 10, 2018  \n",
              "1  Annalee Newitz           0           io9.com       May 23, 2018  \n",
              "2    Sean Axmaker           0  Stream on Demand    January 4, 2018  \n",
              "3   Daniel Kasman           0              MUBI  November 16, 2017  \n",
              "4             NaN           0      Cinema Scope   October 12, 2017  "
            ],
            "text/html": [
              "\n",
              "  <div id=\"df-fad4c529-3c80-4ccf-ae77-51ed19528c58\">\n",
              "    <div class=\"colab-df-container\">\n",
              "      <div>\n",
              "<style scoped>\n",
              "    .dataframe tbody tr th:only-of-type {\n",
              "        vertical-align: middle;\n",
              "    }\n",
              "\n",
              "    .dataframe tbody tr th {\n",
              "        vertical-align: top;\n",
              "    }\n",
              "\n",
              "    .dataframe thead th {\n",
              "        text-align: right;\n",
              "    }\n",
              "</style>\n",
              "<table border=\"1\" class=\"dataframe\">\n",
              "  <thead>\n",
              "    <tr style=\"text-align: right;\">\n",
              "      <th></th>\n",
              "      <th>id</th>\n",
              "      <th>review</th>\n",
              "      <th>rating</th>\n",
              "      <th>fresh</th>\n",
              "      <th>critic</th>\n",
              "      <th>top_critic</th>\n",
              "      <th>publisher</th>\n",
              "      <th>date</th>\n",
              "    </tr>\n",
              "  </thead>\n",
              "  <tbody>\n",
              "    <tr>\n",
              "      <th>0</th>\n",
              "      <td>3</td>\n",
              "      <td>A distinctly gallows take on contemporary fina...</td>\n",
              "      <td>3/5</td>\n",
              "      <td>fresh</td>\n",
              "      <td>PJ Nabarro</td>\n",
              "      <td>0</td>\n",
              "      <td>Patrick Nabarro</td>\n",
              "      <td>November 10, 2018</td>\n",
              "    </tr>\n",
              "    <tr>\n",
              "      <th>1</th>\n",
              "      <td>3</td>\n",
              "      <td>It's an allegory in search of a meaning that n...</td>\n",
              "      <td>NaN</td>\n",
              "      <td>rotten</td>\n",
              "      <td>Annalee Newitz</td>\n",
              "      <td>0</td>\n",
              "      <td>io9.com</td>\n",
              "      <td>May 23, 2018</td>\n",
              "    </tr>\n",
              "    <tr>\n",
              "      <th>2</th>\n",
              "      <td>3</td>\n",
              "      <td>... life lived in a bubble in financial dealin...</td>\n",
              "      <td>NaN</td>\n",
              "      <td>fresh</td>\n",
              "      <td>Sean Axmaker</td>\n",
              "      <td>0</td>\n",
              "      <td>Stream on Demand</td>\n",
              "      <td>January 4, 2018</td>\n",
              "    </tr>\n",
              "    <tr>\n",
              "      <th>3</th>\n",
              "      <td>3</td>\n",
              "      <td>Continuing along a line introduced in last yea...</td>\n",
              "      <td>NaN</td>\n",
              "      <td>fresh</td>\n",
              "      <td>Daniel Kasman</td>\n",
              "      <td>0</td>\n",
              "      <td>MUBI</td>\n",
              "      <td>November 16, 2017</td>\n",
              "    </tr>\n",
              "    <tr>\n",
              "      <th>4</th>\n",
              "      <td>3</td>\n",
              "      <td>... a perverse twist on neorealism...</td>\n",
              "      <td>NaN</td>\n",
              "      <td>fresh</td>\n",
              "      <td>NaN</td>\n",
              "      <td>0</td>\n",
              "      <td>Cinema Scope</td>\n",
              "      <td>October 12, 2017</td>\n",
              "    </tr>\n",
              "  </tbody>\n",
              "</table>\n",
              "</div>\n",
              "      <button class=\"colab-df-convert\" onclick=\"convertToInteractive('df-fad4c529-3c80-4ccf-ae77-51ed19528c58')\"\n",
              "              title=\"Convert this dataframe to an interactive table.\"\n",
              "              style=\"display:none;\">\n",
              "        \n",
              "  <svg xmlns=\"http://www.w3.org/2000/svg\" height=\"24px\"viewBox=\"0 0 24 24\"\n",
              "       width=\"24px\">\n",
              "    <path d=\"M0 0h24v24H0V0z\" fill=\"none\"/>\n",
              "    <path d=\"M18.56 5.44l.94 2.06.94-2.06 2.06-.94-2.06-.94-.94-2.06-.94 2.06-2.06.94zm-11 1L8.5 8.5l.94-2.06 2.06-.94-2.06-.94L8.5 2.5l-.94 2.06-2.06.94zm10 10l.94 2.06.94-2.06 2.06-.94-2.06-.94-.94-2.06-.94 2.06-2.06.94z\"/><path d=\"M17.41 7.96l-1.37-1.37c-.4-.4-.92-.59-1.43-.59-.52 0-1.04.2-1.43.59L10.3 9.45l-7.72 7.72c-.78.78-.78 2.05 0 2.83L4 21.41c.39.39.9.59 1.41.59.51 0 1.02-.2 1.41-.59l7.78-7.78 2.81-2.81c.8-.78.8-2.07 0-2.86zM5.41 20L4 18.59l7.72-7.72 1.47 1.35L5.41 20z\"/>\n",
              "  </svg>\n",
              "      </button>\n",
              "      \n",
              "  <style>\n",
              "    .colab-df-container {\n",
              "      display:flex;\n",
              "      flex-wrap:wrap;\n",
              "      gap: 12px;\n",
              "    }\n",
              "\n",
              "    .colab-df-convert {\n",
              "      background-color: #E8F0FE;\n",
              "      border: none;\n",
              "      border-radius: 50%;\n",
              "      cursor: pointer;\n",
              "      display: none;\n",
              "      fill: #1967D2;\n",
              "      height: 32px;\n",
              "      padding: 0 0 0 0;\n",
              "      width: 32px;\n",
              "    }\n",
              "\n",
              "    .colab-df-convert:hover {\n",
              "      background-color: #E2EBFA;\n",
              "      box-shadow: 0px 1px 2px rgba(60, 64, 67, 0.3), 0px 1px 3px 1px rgba(60, 64, 67, 0.15);\n",
              "      fill: #174EA6;\n",
              "    }\n",
              "\n",
              "    [theme=dark] .colab-df-convert {\n",
              "      background-color: #3B4455;\n",
              "      fill: #D2E3FC;\n",
              "    }\n",
              "\n",
              "    [theme=dark] .colab-df-convert:hover {\n",
              "      background-color: #434B5C;\n",
              "      box-shadow: 0px 1px 3px 1px rgba(0, 0, 0, 0.15);\n",
              "      filter: drop-shadow(0px 1px 2px rgba(0, 0, 0, 0.3));\n",
              "      fill: #FFFFFF;\n",
              "    }\n",
              "  </style>\n",
              "\n",
              "      <script>\n",
              "        const buttonEl =\n",
              "          document.querySelector('#df-fad4c529-3c80-4ccf-ae77-51ed19528c58 button.colab-df-convert');\n",
              "        buttonEl.style.display =\n",
              "          google.colab.kernel.accessAllowed ? 'block' : 'none';\n",
              "\n",
              "        async function convertToInteractive(key) {\n",
              "          const element = document.querySelector('#df-fad4c529-3c80-4ccf-ae77-51ed19528c58');\n",
              "          const dataTable =\n",
              "            await google.colab.kernel.invokeFunction('convertToInteractive',\n",
              "                                                     [key], {});\n",
              "          if (!dataTable) return;\n",
              "\n",
              "          const docLinkHtml = 'Like what you see? Visit the ' +\n",
              "            '<a target=\"_blank\" href=https://colab.research.google.com/notebooks/data_table.ipynb>data table notebook</a>'\n",
              "            + ' to learn more about interactive tables.';\n",
              "          element.innerHTML = '';\n",
              "          dataTable['output_type'] = 'display_data';\n",
              "          await google.colab.output.renderOutput(dataTable, element);\n",
              "          const docLink = document.createElement('div');\n",
              "          docLink.innerHTML = docLinkHtml;\n",
              "          element.appendChild(docLink);\n",
              "        }\n",
              "      </script>\n",
              "    </div>\n",
              "  </div>\n",
              "  "
            ]
          },
          "metadata": {},
          "execution_count": 36
        }
      ]
    },
    {
      "cell_type": "code",
      "source": [
        "# Print shape of data\n",
        "print(f'rt_info has {rt_info.shape[0]} rows and {rt_info.shape[1]} columns')\n",
        "print(f'rt_reviews has {rt_reviews.shape[0]} rows and {rt_reviews.shape[1]} columns')"
      ],
      "metadata": {
        "colab": {
          "base_uri": "https://localhost:8080/"
        },
        "id": "q6Yw3c0hio7m",
        "outputId": "d2511218-1cab-4c84-c827-c8c578de21d9"
      },
      "execution_count": 44,
      "outputs": [
        {
          "output_type": "stream",
          "name": "stdout",
          "text": [
            "rt_info has 1560 rows and 12 columns\n",
            "rt_reviews has 54432 rows and 8 columns\n"
          ]
        }
      ]
    },
    {
      "cell_type": "code",
      "source": [
        "# print data information\n",
        "rt_info.info()"
      ],
      "metadata": {
        "colab": {
          "base_uri": "https://localhost:8080/"
        },
        "id": "QNlvKnksivbk",
        "outputId": "477c3174-af1d-4311-82d2-98b0e355e34b"
      },
      "execution_count": 45,
      "outputs": [
        {
          "output_type": "stream",
          "name": "stdout",
          "text": [
            "<class 'pandas.core.frame.DataFrame'>\n",
            "RangeIndex: 1560 entries, 0 to 1559\n",
            "Data columns (total 12 columns):\n",
            " #   Column        Non-Null Count  Dtype \n",
            "---  ------        --------------  ----- \n",
            " 0   id            1560 non-null   int64 \n",
            " 1   synopsis      1498 non-null   object\n",
            " 2   rating        1557 non-null   object\n",
            " 3   genre         1552 non-null   object\n",
            " 4   director      1361 non-null   object\n",
            " 5   writer        1111 non-null   object\n",
            " 6   theater_date  1201 non-null   object\n",
            " 7   dvd_date      1201 non-null   object\n",
            " 8   currency      340 non-null    object\n",
            " 9   box_office    340 non-null    object\n",
            " 10  runtime       1530 non-null   object\n",
            " 11  studio        494 non-null    object\n",
            "dtypes: int64(1), object(11)\n",
            "memory usage: 146.4+ KB\n"
          ]
        }
      ]
    },
    {
      "cell_type": "code",
      "source": [],
      "metadata": {
        "id": "LGUBA_d1lwo_"
      },
      "execution_count": null,
      "outputs": []
    }
  ]
}